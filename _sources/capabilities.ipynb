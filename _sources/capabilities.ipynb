{
 "cells": [
  {
   "cell_type": "markdown",
   "id": "b8ca3794",
   "metadata": {},
   "source": [
    "# Capabilities\n",
    "\n",
    "Kessler is an open-source Python package that currently includes Bayesian ML and probabilistic programming components. The library currently provides the following key capabiolities:\n",
    "\n",
    "\n",
    "* Functionality to import and export Conjunction Data Messages (CDM) data, using either the CDM standard format or databases that can be connected to Kessler through an API based on pandas DataFrame objects, and grouping CDMs into Events objects representing conjunctions.\n",
    "\n",
    "* Plotting code to visualize event evolution of existing CDMs or predicted ones.\n",
    "\n",
    "* A ML module that currently implements a stack of Bayesian long short-term memory (LSTM) neural networks that can be used to train with user’s private collection of CDM data.\n",
    "\n",
    "* A probabilistic programming module built on [Pyro](https://github.com/pyro-ppl/pyro) simulating conjunction events and CDM generation process. This can be useful both for performing event analysis using Bayesian inference or for generating synthetic CDM datasets sampled from this probabilistic generative model.\n",
    "\n"
   ]
  }
 ],
 "metadata": {
  "kernelspec": {
   "display_name": "Python 3 (ipykernel)",
   "language": "python",
   "name": "python3"
  },
  "language_info": {
   "codemirror_mode": {
    "name": "ipython",
    "version": 3
   },
   "file_extension": ".py",
   "mimetype": "text/x-python",
   "name": "python",
   "nbconvert_exporter": "python",
   "pygments_lexer": "ipython3",
   "version": "3.8.15"
  }
 },
 "nbformat": 4,
 "nbformat_minor": 5
}
