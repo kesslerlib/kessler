{
 "cells": [
  {
   "cell_type": "markdown",
   "metadata": {},
   "source": [
    "# Basics: loading CDMs\n",
    "\n"
   ]
  },
  {
   "cell_type": "code",
   "execution_count": 1,
   "metadata": {},
   "outputs": [],
   "source": [
    "import kessler"
   ]
  },
  {
   "cell_type": "markdown",
   "metadata": {},
   "source": [
    "## Load CDMs from .kvn \n",
    "\n"
   ]
  },
  {
   "cell_type": "markdown",
   "metadata": {},
   "source": [
    "In this tutorial, we show how to load CDMs from ``.kvn`` format.\n",
    "\n",
    "First, the CDMs in ``.kvn`` format need to be placed inside the ``path_to_cdms_folder``, for correctly loading the data. Furthermore, the code expects the CDMs in the folder to have file names grouped by: individual event and the CDM sequence in each event.\n",
    "\n",
    "For instance, if we have to load two events with 3 and 2 CDMs each, we might then have file names in the following format:\n",
    "* ``event_1_01.cdm.kvn.txt``\n",
    "* ``event_1_02.cdm.kvn.txt``\n",
    "* ``event_1_03.cdm.kvn.txt``\n",
    "* ``event_2_01.cdm.kvn.txt``\n",
    "* ``event_2_02.cdm.kvn.txt``\n",
    "\n",
    "\n"
   ]
  },
  {
   "cell_type": "code",
   "execution_count": 2,
   "metadata": {},
   "outputs": [],
   "source": [
    "from kessler import EventDataset"
   ]
  },
  {
   "cell_type": "markdown",
   "metadata": {},
   "source": [
    "We can then proceed in creating the ``EventDataset`` object:\n",
    "\n"
   ]
  },
  {
   "cell_type": "code",
   "execution_count": 4,
   "metadata": {},
   "outputs": [
    {
     "name": "stdout",
     "output_type": "stream",
     "text": [
      "Loading CDMS (with extension .cdm.kvn.txt) from directory: /Users/giacomoacciarini/cdm_data/cdms_kvn/\n",
      "Loaded 39 CDMs grouped into 4 events\n"
     ]
    }
   ],
   "source": [
    "path_to_cdms_folder='cdm_data/cdms_kvn/'\n",
    "\n",
    "events=EventDataset(path_to_cdms_folder)\n",
    "#A message appears confirming that the loading has happened, with the number of CDMs and events."
   ]
  },
  {
   "cell_type": "markdown",
   "metadata": {},
   "source": [
    "## Loading CDMs from pandas ``DataFrame`` object\n",
    "\n",
    "\n",
    "\n"
   ]
  },
  {
   "cell_type": "markdown",
   "metadata": {},
   "source": [
    "\n",
    "In this tutorial, we show how to load CDMs from pandas ``DataFrame`` object.\n",
    "\n",
    "First we perform the relevant imports:\n",
    "    "
   ]
  },
  {
   "cell_type": "code",
   "execution_count": 5,
   "metadata": {},
   "outputs": [],
   "source": [
    "import kessler\n",
    "import pandas as pd\n",
    "from kessler import EventDataset\n"
   ]
  },
  {
   "cell_type": "markdown",
   "metadata": {},
   "source": [
    "Then, we create the ``EventDataset`` object, after having uploaded the pandas dataframe and created the ``DataFrame`` object:"
   ]
  },
  {
   "cell_type": "code",
   "execution_count": 7,
   "metadata": {},
   "outputs": [
    {
     "name": "stdout",
     "output_type": "stream",
     "text": [
      "Dataframe with 2 rows and 231 columns\n",
      "Dropping columns with NaNs\n",
      "Dataframe with 2 rows and 104 columns\n",
      "Grouping by event_id\n",
      "Grouped into 1 event(s)\n",
      "Converting DataFrame to EventDataset\n",
      "Time spent  | Time remain.| Progress             | Events | Events/sec\n",
      "0d:00:00:00 | 0d:00:00:00 | #################### | 1/1 | 404.06         \n",
      "\n",
      "EventDataset(Events:1, number of CDMs per event: 2 (min), 2 (max), 2.00 (mean))\n"
     ]
    }
   ],
   "source": [
    "file_name='cdm_data/cdms_csv/sample.csv'\n",
    "df=pd.read_csv(file_name)\n",
    "events=EventDataset.from_pandas(df)"
   ]
  },
  {
   "cell_type": "markdown",
   "metadata": {},
   "source": [
    "## Loading CDMs from [Kelvins Challenge](https://kelvins.esa.int/collision-avoidance-challenge/)  dataset\n",
    "\n",
    "\n",
    "\n",
    "\n",
    "\n"
   ]
  },
  {
   "cell_type": "markdown",
   "metadata": {},
   "source": [
    "In this tutorial, we show the case in which the data to be loaded comes from the [Kelvins competition](https://kelvins.esa.int/collision-avoidance-challenge/data/): a collision avoidance challenge organized by ESA in 2019.\n",
    "\n",
    "\n",
    "For this purpose, we built a specific converter that takes care of the conversion from the Kelvins format to standard CDM format.\n",
    "First, we perform the relevant imports:\n"
   ]
  },
  {
   "cell_type": "code",
   "execution_count": 8,
   "metadata": {},
   "outputs": [
    {
     "name": "stdout",
     "output_type": "stream",
     "text": [
      "Cannot import dbm.gnu: No module named '_gdbm'\n"
     ]
    },
    {
     "name": "stderr",
     "output_type": "stream",
     "text": [
      "/Users/giacomoacciarini/miniconda3/envs/fdl/lib/python3.7/site-packages/pyprob/util.py:327: UserWarning: Empirical distributions on disk may perform slow because GNU DBM is not available. Please install and configure gdbm library for Python for better speed.\n",
      "  warnings.warn('Empirical distributions on disk may perform slow because GNU DBM is not available. Please install and configure gdbm library for Python for better speed.')\n"
     ]
    }
   ],
   "source": [
    "import kessler\n",
    "from kessler.data import kelvins_to_event_dataset"
   ]
  },
  {
   "cell_type": "markdown",
   "metadata": {},
   "source": [
    "Then, we proceed in converting the Kelvins dataset as an ``EventDataset`` objetc. In the following example, we leverage two extra entries (i.e., ``drop_features`` and ``num_events``) to exclude certain features when importing, and to only import a limited number of events (in this case 1000)."
   ]
  },
  {
   "cell_type": "code",
   "execution_count": 10,
   "metadata": {},
   "outputs": [
    {
     "name": "stdout",
     "output_type": "stream",
     "text": [
      "Loading Kelvins dataset from file name: /Users/giacomoacciarini/cdm_data/kelvins_data/test_data.csv\n",
      "24484 entries\n",
      "Dropping features: ['c_rcs_estimate', 't_rcs_estimate']\n",
      "Dropping rows with NaNs\n",
      "21932 entries\n",
      "Removing outliers\n",
      "19531 entries\n",
      "Shuffling\n",
      "Grouped rows into 1726 events\n",
      "Taking TCA as current time: 2022-02-17 23:50:10.189235\n",
      "Converting Kelvins challenge data to EventDataset\n",
      "Time spent  | Time remain.| Progress             | Events    | Events/sec\n",
      "0d:00:00:07 | 0d:00:00:00 | #################### | 1000/1000 | 128.69       \n"
     ]
    }
   ],
   "source": [
    "file_name='cdm_data/kelvins_data/test_data.csv'\n",
    "events=kelvins_to_event_dataset(file_name, drop_features=['c_rcs_estimate', 't_rcs_estimate'], num_events=1000)\n",
    "#The output will show the number of CDMs and events loaded, as they progress.\n"
   ]
  }
 ],
 "metadata": {
  "kernelspec": {
   "display_name": "kessler",
   "language": "python",
   "name": "python3"
  },
  "language_info": {
   "codemirror_mode": {
    "name": "ipython",
    "version": 3
   },
   "file_extension": ".py",
   "mimetype": "text/x-python",
   "name": "python",
   "nbconvert_exporter": "python",
   "pygments_lexer": "ipython3",
   "version": "3.12.8"
  }
 },
 "nbformat": 4,
 "nbformat_minor": 4
}
