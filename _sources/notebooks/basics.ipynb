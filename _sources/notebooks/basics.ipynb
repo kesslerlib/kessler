{
 "cells": [
  {
   "cell_type": "markdown",
   "metadata": {},
   "source": [
    "# Basics: loading CDMs\n",
    "\n"
   ]
  },
  {
   "cell_type": "markdown",
   "metadata": {},
   "source": [
    "## Load CDMs from .kvn \n",
    "\n"
   ]
  },
  {
   "cell_type": "markdown",
   "metadata": {},
   "source": [
    "In this tutorial, we show how to load CDMs from ``.kvn`` format.\n",
    "\n",
    "First, the CDMs in ``.kvn`` format need to be placed inside the ``path_to_cdms_folder``, for correctly loading the data. Furthermore, the code expects the CDMs in the folder to have file names grouped by: individual event and the CDM sequence in each event.\n",
    "\n",
    "For instance, if we have to load two events with 3 and 2 CDMs each, we might then have file names in the following format:\n",
    "* ``event_1_01.cdm.kvn.txt``\n",
    "* ``event_1_02.cdm.kvn.txt``\n",
    "* ``event_1_03.cdm.kvn.txt``\n",
    "* ``event_2_01.cdm.kvn.txt``\n",
    "* ``event_2_02.cdm.kvn.txt``\n",
    "\n",
    "\n"
   ]
  },
  {
   "cell_type": "code",
   "execution_count": 1,
   "metadata": {},
   "outputs": [],
   "source": [
    "from kessler import EventDataset"
   ]
  },
  {
   "cell_type": "markdown",
   "metadata": {},
   "source": [
    "We can then proceed in creating the ``EventDataset`` object:\n",
    "\n"
   ]
  },
  {
   "cell_type": "code",
   "execution_count": 2,
   "metadata": {},
   "outputs": [
    {
     "name": "stdout",
     "output_type": "stream",
     "text": [
      "Loading CDMS (with extension .kvn) from directory: synthetic_cdms/\n",
      "Loaded 14 CDMs grouped into 2 events\n"
     ]
    }
   ],
   "source": [
    "path_to_cdms_folder='synthetic_cdms/'\n",
    "\n",
    "events=EventDataset(path_to_cdms_folder,cdm_extension='.kvn')\n",
    "#A message appears confirming that the loading has happened, with the number of CDMs and events."
   ]
  },
  {
   "cell_type": "markdown",
   "metadata": {},
   "source": [
    "## Loading CDMs from [Kelvins Challenge](https://kelvins.esa.int/collision-avoidance-challenge/)  dataset\n",
    "\n",
    "\n",
    "\n",
    "\n",
    "\n"
   ]
  },
  {
   "cell_type": "markdown",
   "metadata": {},
   "source": [
    "In this tutorial, we show the case in which the data to be loaded comes from the [Kelvins competition](https://kelvins.esa.int/collision-avoidance-challenge/data/): a collision avoidance challenge organized by ESA in 2019.\n",
    "\n",
    "\n",
    "For this purpose, we built a specific converter that takes care of the conversion from the Kelvins format to standard CDM format.\n",
    "First, we perform the relevant imports:\n"
   ]
  },
  {
   "cell_type": "code",
   "execution_count": 3,
   "metadata": {},
   "outputs": [],
   "source": [
    "from kessler.data import kelvins_to_event_dataset"
   ]
  },
  {
   "cell_type": "markdown",
   "metadata": {},
   "source": [
    "Then, we proceed in converting the Kelvins dataset as an ``EventDataset`` objetc. In the following example, we leverage two extra entries (i.e., ``drop_features`` and ``num_events``) to exclude certain features when importing, and to only import a limited number of events (in this case 1000)."
   ]
  },
  {
   "cell_type": "code",
   "execution_count": 10,
   "metadata": {},
   "outputs": [
    {
     "name": "stdout",
     "output_type": "stream",
     "text": [
      "Loading Kelvins dataset from file name: /Users/giacomoacciarini/cdm_data/kelvins_data/test_data.csv\n",
      "24484 entries\n",
      "Dropping features: ['c_rcs_estimate', 't_rcs_estimate']\n",
      "Dropping rows with NaNs\n",
      "21932 entries\n",
      "Removing outliers\n",
      "19531 entries\n",
      "Shuffling\n",
      "Grouped rows into 1726 events\n",
      "Taking TCA as current time: 2022-02-17 23:50:10.189235\n",
      "Converting Kelvins challenge data to EventDataset\n",
      "Time spent  | Time remain.| Progress             | Events    | Events/sec\n",
      "0d:00:00:07 | 0d:00:00:00 | #################### | 1000/1000 | 128.69       \n"
     ]
    }
   ],
   "source": [
    "file_name='kelvins_data/test_data.csv'\n",
    "events=kelvins_to_event_dataset(file_name, drop_features=['c_rcs_estimate', 't_rcs_estimate'], num_events=1000)\n",
    "#The output will show the number of CDMs and events loaded, as they progress.\n"
   ]
  }
 ],
 "metadata": {
  "kernelspec": {
   "display_name": "kessler",
   "language": "python",
   "name": "python3"
  },
  "language_info": {
   "codemirror_mode": {
    "name": "ipython",
    "version": 3
   },
   "file_extension": ".py",
   "mimetype": "text/x-python",
   "name": "python",
   "nbconvert_exporter": "python",
   "pygments_lexer": "ipython3",
   "version": "3.12.8"
  }
 },
 "nbformat": 4,
 "nbformat_minor": 4
}
